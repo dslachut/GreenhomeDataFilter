{
 "metadata": {
  "name": "DB"
 },
 "nbformat": 3,
 "nbformat_minor": 0,
 "worksheets": [
  {
   "cells": [
    {
     "cell_type": "code",
     "collapsed": false,
     "input": [
      "#!/usr/bin/env python\n",
      "#%pylab inline"
     ],
     "language": "python",
     "metadata": {},
     "outputs": [],
     "prompt_number": 1
    },
    {
     "cell_type": "code",
     "collapsed": false,
     "input": [
      "from sqlalchemy import create_engine\n",
      "from sqlalchemy.ext.declarative import declarative_base\n",
      "from sqlalchemy.orm import sessionmaker\n",
      "from datetime import datetime,timedelta\n",
      "import gc"
     ],
     "language": "python",
     "metadata": {},
     "outputs": [],
     "prompt_number": 2
    },
    {
     "cell_type": "code",
     "collapsed": false,
     "input": [
      "user = 'greenhome'\n",
      "pwd  = 'greenhome'\n",
      "address = '127.0.0.1:3307'#'cab.cs.usfca.edu'\n",
      "dbname = 'greenhome'\n",
      "printEverything = False\n",
      "engine = create_engine('mysql+mysqldb://%s:%s@%s/%s' % (user,pwd,address,dbname),echo=printEverything)\n",
      "Base = declarative_base(engine)"
     ],
     "language": "python",
     "metadata": {},
     "outputs": [],
     "prompt_number": 3
    },
    {
     "cell_type": "code",
     "collapsed": false,
     "input": [
      "class Statuses(Base):\n",
      "    \"\"\"\"\"\"\n",
      "    __tablename__='Status'\n",
      "    __table_args__={'autoload':True}"
     ],
     "language": "python",
     "metadata": {},
     "outputs": [],
     "prompt_number": 4
    },
    {
     "cell_type": "code",
     "collapsed": false,
     "input": [
      "class Verameter(Base):\n",
      "    \"\"\"\"\"\"\n",
      "    __tablename__='verameter'\n",
      "    __table_args__={'autoload':True}"
     ],
     "language": "python",
     "metadata": {},
     "outputs": [],
     "prompt_number": 5
    },
    {
     "cell_type": "code",
     "collapsed": false,
     "input": [
      "class Devices(Base):\n",
      "    \"\"\"\"\"\"\n",
      "    __tablename__='DEVICE'\n",
      "    __table_args__={'autoload':True}"
     ],
     "language": "python",
     "metadata": {},
     "outputs": [],
     "prompt_number": 6
    },
    {
     "cell_type": "code",
     "collapsed": false,
     "input": [
      "class Households(Base):\n",
      "    \"\"\"\"\"\"\n",
      "    __tablename__='HOUSEHOLD'\n",
      "    __table_args__={'autoload':True}"
     ],
     "language": "python",
     "metadata": {},
     "outputs": [],
     "prompt_number": 7
    },
    {
     "cell_type": "code",
     "collapsed": false,
     "input": [
      "class WholeHome(Base):\n",
      "    \"\"\"\"\"\"\n",
      "    __tablename__='BATTERYLEVEL'\n",
      "    __table_args__={'autoload':True}"
     ],
     "language": "python",
     "metadata": {},
     "outputs": [],
     "prompt_number": 8
    },
    {
     "cell_type": "code",
     "collapsed": false,
     "input": [
      "def loadSession():\n",
      "    \"\"\"\"\"\"\n",
      "    metadata = Base.metadata\n",
      "    Session = sessionmaker(bind=engine)\n",
      "    session = Session()\n",
      "    return session"
     ],
     "language": "python",
     "metadata": {},
     "outputs": [],
     "prompt_number": 9
    },
    {
     "cell_type": "code",
     "collapsed": false,
     "input": [
      "session = loadSession()"
     ],
     "language": "python",
     "metadata": {},
     "outputs": [],
     "prompt_number": 10
    },
    {
     "cell_type": "code",
     "collapsed": false,
     "input": [
      "def convertTS(ts):\n",
      "    return (ts - datetime.utcfromtimestamp(0)).total_seconds() * 1000"
     ],
     "language": "python",
     "metadata": {},
     "outputs": [],
     "prompt_number": 11
    },
    {
     "cell_type": "code",
     "collapsed": false,
     "input": [
      "def GetRanges(devID):\n",
      "    ranges = []\n",
      "    counts = session.query(Verameter).filter(Verameter.DEVICE_ID_OID == devID).all()\n",
      "    i = 0\n",
      "    preCtr = -1\n",
      "    for entry in counts:\n",
      "        if entry.COUNTER > preCtr:\n",
      "            try:\n",
      "                if entry.TIMESTAMP > ranges[i][0] and entry.TIMESTAMP < ranges[i][1]:\n",
      "                    ranges[i][1] = entry.TIMESTAMP + timedelta(minutes=5)\n",
      "                else:\n",
      "                    i += 1\n",
      "                    ranges.append([entry.TIMESTAMP,entry.TIMESTAMP + timedelta(minutes=5)])\n",
      "            except:\n",
      "                ranges.append([entry.TIMESTAMP,entry.TIMESTAMP + timedelta(minutes=5)])\n",
      "    for i in range(len(ranges)):\n",
      "        for j in range(len(ranges[i])):\n",
      "            ranges[i][j] = convertTS(ranges[i][j])\n",
      "    return ranges"
     ],
     "language": "python",
     "metadata": {},
     "outputs": [],
     "prompt_number": 12
    },
    {
     "cell_type": "code",
     "collapsed": false,
     "input": [
      "def DumpHome(hid,hname):\n",
      "    Devs = session.query(Devices).filter(Devices.DEVICES_ID_OWN == hid).all()\n",
      "    for dev in Devs:\n",
      "        outLines = []\n",
      "        ranges = GetRanges(dev.ID) # ranges = [[t0,t1],[t2,t3],[t4,t5]]\n",
      "        for r in ranges:\n",
      "            Stati = session.query(Statuses).filter(Statuses.DEVICE_ID_OID == dev.ID,Statuses.TIMESTAMP >= r[0],Statuses.TIMESTAMP < r[1]).all()\n",
      "            for status in Stati:\n",
      "                outLines.append('%d,%f' % (status.TIMESTAMP,status.POWERDRAW))\n",
      "        with open('%s-%s%s.csv'%(hname,dev.NAME,dev.UDID),'w') as FILE:\n",
      "            FILE.write('\\n'.join(outLines))"
     ],
     "language": "python",
     "metadata": {},
     "outputs": [],
     "prompt_number": 13
    },
    {
     "cell_type": "code",
     "collapsed": false,
     "input": [
      "bl = session.query(WholeHome).filter(WholeHome.HOUSE_ID_OID == 92)\n",
      "a = bl.count()\n",
      "print type(a)\n",
      "\n",
      "rs = bl.slice(int(a)+1,int(a)+2).all()\n",
      "for r in rs:\n",
      "    print r.ID"
     ],
     "language": "python",
     "metadata": {},
     "outputs": [
      {
       "output_type": "stream",
       "stream": "stdout",
       "text": [
        "<type 'long'>\n"
       ]
      }
     ],
     "prompt_number": 40
    },
    {
     "cell_type": "code",
     "collapsed": false,
     "input": [
      "def DumpWholeHome(hid,hname):\n",
      "    Q = session.query(WholeHome).filter(WholeHome.HOUSE_ID_OID == hid)\n",
      "    numRows = Q.count()\n",
      "    #print numRows\n",
      "    i = 0\n",
      "    rw = 'w'\n",
      "    while i < numRows:\n",
      "        outlines = []\n",
      "        #print i, numRows\n",
      "        rows = Q.slice(i,i+10000).all()\n",
      "        #print len(rows)\n",
      "        for row in rows:\n",
      "            outlines.append(','.join([str(row.TIMESTAMP),str(row.KWH)]))\n",
      "        with open('%s-WholeHome.csv' % hname,'%s' % rw) as FILE:\n",
      "            FILE.write('\\n'.join(outlines))\n",
      "        rw = 'a'\n",
      "        i += 10000"
     ],
     "language": "python",
     "metadata": {},
     "outputs": [],
     "prompt_number": 52
    },
    {
     "cell_type": "code",
     "collapsed": false,
     "input": [
      "def DumpAllHomesDevs():\n",
      "    Homes = session.query(Households)\n",
      "    for home in Homes.all():\n",
      "        DumpHome(home.ID,home.NAME)"
     ],
     "language": "python",
     "metadata": {},
     "outputs": [],
     "prompt_number": 46
    },
    {
     "cell_type": "code",
     "collapsed": false,
     "input": [
      "Homes  = session.query(Households)\n",
      "for home in Homes.all():\n",
      "    print home.ID, home.NAME"
     ],
     "language": "python",
     "metadata": {},
     "outputs": [
      {
       "output_type": "stream",
       "stream": "stdout",
       "text": [
        "21 lab\n",
        "22 house1\n",
        "32 lab2\n",
        "33 lab1\n",
        "42 george_house\n",
        "52 Sami's House\n",
        "62 David's House\n",
        "72 Nilanjan's House\n",
        "82 George's House\n",
        "92 JParker Home\n",
        "102 nilanjan_house_poll\n",
        "112 george_house_poll\n",
        "113 jpakers_house_poll\n",
        "122 tstarks_house\n",
        "132 lablab\n",
        "142 Stan's House\n",
        "152 mahabub_household\n",
        "162 prachi_household\n"
       ]
      }
     ],
     "prompt_number": 43
    },
    {
     "cell_type": "code",
     "collapsed": false,
     "input": [
      "DumpHome(42,'george_other')\n",
      "DumpHome(52,'sami')\n",
      "DumpHome(62,'david')\n",
      "DumpHome(72,'nilanjan')\n",
      "DumpHome(122,'tstarks')\n",
      "DumpHome(142,'stan')"
     ],
     "language": "python",
     "metadata": {},
     "outputs": [],
     "prompt_number": 14
    },
    {
     "cell_type": "code",
     "collapsed": false,
     "input": [
      "DumpWholeHome(142,'stan')\n",
      "DumpWholeHome(92,'jparkers')\n",
      "DumpWholeHome(82,'george')\n",
      "DumpWholeHome(72,'nilanjan')\n",
      "DumpWholeHome(62,'david')\n",
      "DumpWholeHome(52,'sami')"
     ],
     "language": "python",
     "metadata": {},
     "outputs": [],
     "prompt_number": 54
    },
    {
     "cell_type": "code",
     "collapsed": false,
     "input": [],
     "language": "python",
     "metadata": {},
     "outputs": []
    }
   ],
   "metadata": {}
  }
 ]
}